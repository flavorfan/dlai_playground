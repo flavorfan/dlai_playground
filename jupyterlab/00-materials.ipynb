{
 "cells": [
  {
   "cell_type": "markdown",
   "metadata": {},
   "source": [
    "# Course Materials\n",
    "\n",
    "_Tim Robinson, CSCS_"
   ]
  },
  {
   "cell_type": "markdown",
   "metadata": {},
   "source": [
    "## Log in at https://jupyter.cscs.ch\n",
    "\n",
    "Your username and password have been sent separately. \n",
    "\n",
    "<img src=\"./hpc_python_login.png\">"
   ]
  },
  {
   "cell_type": "markdown",
   "metadata": {},
   "source": [
    "## Spawner options\n",
    "Indicate the Duration and Advanced Reservation (in \"Advanced options\") \n",
    "- 8 hours is sensible\n",
    "- Advanced reservation is HPC_python\n",
    "<img src=\"./hpc_python_options.png\">"
   ]
  },
  {
   "cell_type": "markdown",
   "metadata": {},
   "source": [
    "## Clone this repository \n",
    "Clone this repository with `git clone` to access slides and notebooks.\n",
    "\n",
    "Create a new notebook and executing the following in a cell - note the leading exclamation mark!:"
   ]
  },
  {
   "cell_type": "code",
   "execution_count": null,
   "metadata": {},
   "outputs": [],
   "source": [
    "! git clone https://github.com/eth-cscs/PythonHPC.git"
   ]
  },
  {
   "cell_type": "markdown",
   "metadata": {},
   "source": [
    "## Done!\n",
    "Now navigate in the File Browser to \"PythonHPC/jupyterlab\" and open \"01-jupyterlab-interface.ipynb\"."
   ]
  },
  {
   "cell_type": "markdown",
   "metadata": {},
   "source": [
    "# Later ...\n",
    "## Checking for updates \n",
    "Later, you can `git pull` from this notebook to get updates as needed:"
   ]
  },
  {
   "cell_type": "code",
   "execution_count": null,
   "metadata": {},
   "outputs": [],
   "source": [
    "! git pull "
   ]
  },
  {
   "cell_type": "markdown",
   "metadata": {},
   "source": [
    "## Downloading your work at the end of the course\n",
    "After this course you can create a gzipped tar file of your work by issuing the following command: \n"
   ]
  },
  {
   "cell_type": "code",
   "execution_count": null,
   "metadata": {},
   "outputs": [],
   "source": [
    "! tar chvfz python_hpc_2020.tar.gz ${HOME}/PythonHPC/*"
   ]
  },
  {
   "cell_type": "markdown",
   "metadata": {},
   "source": [
    "You can then download the file to your local machine by right clicking on the file in the \"File Browser\" and selecting \"Download\"."
   ]
  }
 ],
 "metadata": {
  "kernelspec": {
   "display_name": "Python 3",
   "language": "python",
   "name": "python3"
  },
  "language_info": {
   "codemirror_mode": {
    "name": "ipython",
    "version": 3
   },
   "file_extension": ".py",
   "mimetype": "text/x-python",
   "name": "python",
   "nbconvert_exporter": "python",
   "pygments_lexer": "ipython3",
   "version": "3.6.5"
  }
 },
 "nbformat": 4,
 "nbformat_minor": 4
}
