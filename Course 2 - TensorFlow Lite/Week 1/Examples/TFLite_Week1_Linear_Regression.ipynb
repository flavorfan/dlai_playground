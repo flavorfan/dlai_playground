{
 "cells": [
  {
   "cell_type": "code",
   "execution_count": 0,
   "metadata": {
    "colab": {},
    "colab_type": "code",
    "id": "zX4Kg8DUTKWO"
   },
   "outputs": [],
   "source": [
    "#@title Licensed under the Apache License, Version 2.0 (the \"License\");\n",
    "# you may not use this file except in compliance with the License.\n",
    "# You may obtain a copy of the License at\n",
    "#\n",
    "# https://www.apache.org/licenses/LICENSE-2.0\n",
    "#\n",
    "# Unless required by applicable law or agreed to in writing, software\n",
    "# distributed under the License is distributed on an \"AS IS\" BASIS,\n",
    "# WITHOUT WARRANTIES OR CONDITIONS OF ANY KIND, either express or implied.\n",
    "# See the License for the specific language governing permissions and\n",
    "# limitations under the License."
   ]
  },
  {
   "cell_type": "markdown",
   "metadata": {
    "colab_type": "text",
    "id": "Za8-Nr5k11fh"
   },
   "source": [
    "##### Copyright 2018 The TensorFlow Authors."
   ]
  },
  {
   "cell_type": "code",
   "execution_count": null,
   "metadata": {
    "cellView": "form",
    "colab": {},
    "colab_type": "code",
    "id": "Eq10uEbw0E4l"
   },
   "outputs": [],
   "source": [
    "#@title Licensed under the Apache License, Version 2.0 (the \"License\");\n",
    "# you may not use this file except in compliance with the License.\n",
    "# You may obtain a copy of the License at\n",
    "#\n",
    "# https://www.apache.org/licenses/LICENSE-2.0\n",
    "#\n",
    "# Unless required by applicable law or agreed to in writing, software\n",
    "# distributed under the License is distributed on an \"AS IS\" BASIS,\n",
    "# WITHOUT WARRANTIES OR CONDITIONS OF ANY KIND, either express or implied.\n",
    "# See the License for the specific language governing permissions and\n",
    "# limitations under the License."
   ]
  },
  {
   "cell_type": "markdown",
   "metadata": {
    "colab_type": "text",
    "id": "UysiGN3tGQHY"
   },
   "source": [
    "# Running TFLite models"
   ]
  },
  {
   "cell_type": "markdown",
   "metadata": {
    "colab_type": "text",
    "id": "2hOrvdmswy5O"
   },
   "source": [
    "<table class=\"tfo-notebook-buttons\" align=\"left\">\n",
    "  <td>\n",
    "    <a target=\"_blank\" href=\"https://colab.research.google.com/github/lmoroney/dlaicourse/blob/master/TensorFlow%20Deployment/Course%202%20-%20TensorFlow%20Lite/Week%201/Examples/TFLite_Week1_Linear_Regression.ipynb\">\n",
    "    <img src=\"https://www.tensorflow.org/images/colab_logo_32px.png\" />\n",
    "    Run in Google Colab</a>\n",
    "  </td>\n",
    "  <td>\n",
    "    <a target=\"_blank\" href=\"https://github.com/lmoroney/dlaicourse/blob/master/TensorFlow%20Deployment/Course%202%20-%20TensorFlow%20Lite/Week%201/Examples/TFLite_Week1_Linear_Regression.ipynb\">\n",
    "    <img src=\"https://www.tensorflow.org/images/GitHub-Mark-32px.png\" />\n",
    "    View source on GitHub</a>\n",
    "  </td>\n",
    "</table>"
   ]
  },
  {
   "cell_type": "markdown",
   "metadata": {
    "colab_type": "text",
    "id": "W-VhTkyTGcaQ"
   },
   "source": [
    "## Setup"
   ]
  },
  {
   "cell_type": "code",
   "execution_count": 1,
   "metadata": {
    "ExecuteTime": {
     "end_time": "2020-09-17T00:30:42.546988Z",
     "start_time": "2020-09-17T00:30:42.537405Z"
    },
    "colab": {},
    "colab_type": "code",
    "id": "Ll4ii2J9Fea_"
   },
   "outputs": [],
   "source": [
    "try:\n",
    "    %tensorflow_version 2.x\n",
    "except:\n",
    "    pass"
   ]
  },
  {
   "cell_type": "code",
   "execution_count": 2,
   "metadata": {
    "ExecuteTime": {
     "end_time": "2020-09-17T00:30:54.341815Z",
     "start_time": "2020-09-17T00:30:50.551005Z"
    },
    "colab": {},
    "colab_type": "code",
    "id": "dy4BcTjBFTWx"
   },
   "outputs": [
    {
     "name": "stdout",
     "output_type": "stream",
     "text": [
      "• Using TensorFlow Version: 2.0.0-rc0\n"
     ]
    }
   ],
   "source": [
    "import pathlib\n",
    "import numpy as np\n",
    "import matplotlib.pyplot as plt\n",
    "\n",
    "import tensorflow as tf\n",
    "\n",
    "print('\\u2022 Using TensorFlow Version:', tf.__version__)"
   ]
  },
  {
   "cell_type": "markdown",
   "metadata": {
    "colab_type": "text",
    "id": "ceibQLDeGhI4"
   },
   "source": [
    "## Create a Basic Model of the Form y = mx + c"
   ]
  },
  {
   "cell_type": "code",
   "execution_count": 3,
   "metadata": {
    "ExecuteTime": {
     "end_time": "2020-09-17T00:43:22.213601Z",
     "start_time": "2020-09-17T00:43:16.958474Z"
    },
    "colab": {},
    "colab_type": "code",
    "id": "YIBCsjQNF46Z"
   },
   "outputs": [
    {
     "name": "stdout",
     "output_type": "stream",
     "text": [
      "Train on 6 samples\n",
      "Epoch 1/200\n",
      "6/6 [==============================] - 1s 97ms/sample - loss: 28.9646\n",
      "Epoch 2/200\n",
      "6/6 [==============================] - 0s 4ms/sample - loss: 23.0963\n",
      "Epoch 3/200\n",
      "6/6 [==============================] - 0s 4ms/sample - loss: 18.4730\n",
      "Epoch 4/200\n",
      "6/6 [==============================] - 0s 3ms/sample - loss: 14.8295\n",
      "Epoch 5/200\n",
      "6/6 [==============================] - 0s 3ms/sample - loss: 11.9568\n",
      "Epoch 6/200\n",
      "6/6 [==============================] - 0s 3ms/sample - loss: 9.6908\n",
      "Epoch 7/200\n",
      "6/6 [==============================] - 0s 3ms/sample - loss: 7.9022\n",
      "Epoch 8/200\n",
      "6/6 [==============================] - 0s 3ms/sample - loss: 6.4893\n",
      "Epoch 9/200\n",
      "6/6 [==============================] - 0s 3ms/sample - loss: 5.3721\n",
      "Epoch 10/200\n",
      "6/6 [==============================] - 0s 3ms/sample - loss: 4.4876\n",
      "Epoch 11/200\n",
      "6/6 [==============================] - 0s 3ms/sample - loss: 3.7864\n",
      "Epoch 12/200\n",
      "6/6 [==============================] - 0s 4ms/sample - loss: 3.2295\n",
      "Epoch 13/200\n",
      "6/6 [==============================] - 0s 3ms/sample - loss: 2.7862\n",
      "Epoch 14/200\n",
      "6/6 [==============================] - 0s 3ms/sample - loss: 2.4324\n",
      "Epoch 15/200\n",
      "6/6 [==============================] - 0s 3ms/sample - loss: 2.1491\n",
      "Epoch 16/200\n",
      "6/6 [==============================] - 0s 3ms/sample - loss: 1.9214\n",
      "Epoch 17/200\n",
      "6/6 [==============================] - 0s 3ms/sample - loss: 1.7375\n",
      "Epoch 18/200\n",
      "6/6 [==============================] - 0s 3ms/sample - loss: 1.5882\n",
      "Epoch 19/200\n",
      "6/6 [==============================] - 0s 3ms/sample - loss: 1.4661\n",
      "Epoch 20/200\n",
      "6/6 [==============================] - 0s 3ms/sample - loss: 1.3657\n",
      "Epoch 21/200\n",
      "6/6 [==============================] - 0s 3ms/sample - loss: 1.2823\n",
      "Epoch 22/200\n",
      "6/6 [==============================] - 0s 4ms/sample - loss: 1.2124\n",
      "Epoch 23/200\n",
      "6/6 [==============================] - 0s 3ms/sample - loss: 1.1533\n",
      "Epoch 24/200\n",
      "6/6 [==============================] - 0s 3ms/sample - loss: 1.1026\n",
      "Epoch 25/200\n",
      "6/6 [==============================] - 0s 3ms/sample - loss: 1.0588\n",
      "Epoch 26/200\n",
      "6/6 [==============================] - 0s 3ms/sample - loss: 1.0204\n",
      "Epoch 27/200\n",
      "6/6 [==============================] - 0s 3ms/sample - loss: 0.9863\n",
      "Epoch 28/200\n",
      "6/6 [==============================] - 0s 3ms/sample - loss: 0.9557\n",
      "Epoch 29/200\n",
      "6/6 [==============================] - 0s 3ms/sample - loss: 0.9279\n",
      "Epoch 30/200\n",
      "6/6 [==============================] - 0s 3ms/sample - loss: 0.9025\n",
      "Epoch 31/200\n",
      "6/6 [==============================] - 0s 3ms/sample - loss: 0.8789\n",
      "Epoch 32/200\n",
      "6/6 [==============================] - 0s 4ms/sample - loss: 0.8569\n",
      "Epoch 33/200\n",
      "6/6 [==============================] - 0s 3ms/sample - loss: 0.8362\n",
      "Epoch 34/200\n",
      "6/6 [==============================] - 0s 3ms/sample - loss: 0.8166\n",
      "Epoch 35/200\n",
      "6/6 [==============================] - 0s 4ms/sample - loss: 0.7979\n",
      "Epoch 36/200\n",
      "6/6 [==============================] - 0s 4ms/sample - loss: 0.7800\n",
      "Epoch 37/200\n",
      "6/6 [==============================] - 0s 3ms/sample - loss: 0.7628\n",
      "Epoch 38/200\n",
      "6/6 [==============================] - 0s 4ms/sample - loss: 0.7462\n",
      "Epoch 39/200\n",
      "6/6 [==============================] - 0s 4ms/sample - loss: 0.7301\n",
      "Epoch 40/200\n",
      "6/6 [==============================] - 0s 3ms/sample - loss: 0.7145\n",
      "Epoch 41/200\n",
      "6/6 [==============================] - 0s 3ms/sample - loss: 0.6994\n",
      "Epoch 42/200\n",
      "6/6 [==============================] - 0s 2ms/sample - loss: 0.6847\n",
      "Epoch 43/200\n",
      "6/6 [==============================] - 0s 2ms/sample - loss: 0.6703\n",
      "Epoch 44/200\n",
      "6/6 [==============================] - 0s 3ms/sample - loss: 0.6563\n",
      "Epoch 45/200\n",
      "6/6 [==============================] - 0s 3ms/sample - loss: 0.6427\n",
      "Epoch 46/200\n",
      "6/6 [==============================] - 0s 3ms/sample - loss: 0.6293\n",
      "Epoch 47/200\n",
      "6/6 [==============================] - 0s 3ms/sample - loss: 0.6163\n",
      "Epoch 48/200\n",
      "6/6 [==============================] - 0s 3ms/sample - loss: 0.6035\n",
      "Epoch 49/200\n",
      "6/6 [==============================] - 0s 2ms/sample - loss: 0.5911\n",
      "Epoch 50/200\n",
      "6/6 [==============================] - 0s 3ms/sample - loss: 0.5789\n",
      "Epoch 51/200\n",
      "6/6 [==============================] - 0s 4ms/sample - loss: 0.5670\n",
      "Epoch 52/200\n",
      "6/6 [==============================] - 0s 4ms/sample - loss: 0.5553\n",
      "Epoch 53/200\n",
      "6/6 [==============================] - 0s 3ms/sample - loss: 0.5438\n",
      "Epoch 54/200\n",
      "6/6 [==============================] - 0s 3ms/sample - loss: 0.5327\n",
      "Epoch 55/200\n",
      "6/6 [==============================] - 0s 4ms/sample - loss: 0.5217\n",
      "Epoch 56/200\n",
      "6/6 [==============================] - 0s 4ms/sample - loss: 0.5110\n",
      "Epoch 57/200\n",
      "6/6 [==============================] - 0s 3ms/sample - loss: 0.5005\n",
      "Epoch 58/200\n",
      "6/6 [==============================] - 0s 3ms/sample - loss: 0.4902\n",
      "Epoch 59/200\n",
      "6/6 [==============================] - 0s 3ms/sample - loss: 0.4801\n",
      "Epoch 60/200\n",
      "6/6 [==============================] - 0s 3ms/sample - loss: 0.4702\n",
      "Epoch 61/200\n",
      "6/6 [==============================] - 0s 3ms/sample - loss: 0.4606\n",
      "Epoch 62/200\n",
      "6/6 [==============================] - 0s 3ms/sample - loss: 0.4511\n",
      "Epoch 63/200\n",
      "6/6 [==============================] - 0s 4ms/sample - loss: 0.4418\n",
      "Epoch 64/200\n",
      "6/6 [==============================] - 0s 3ms/sample - loss: 0.4328\n",
      "Epoch 65/200\n",
      "6/6 [==============================] - 0s 4ms/sample - loss: 0.4239\n",
      "Epoch 66/200\n",
      "6/6 [==============================] - 0s 4ms/sample - loss: 0.4152\n",
      "Epoch 67/200\n",
      "6/6 [==============================] - 0s 3ms/sample - loss: 0.4066\n",
      "Epoch 68/200\n",
      "6/6 [==============================] - 0s 3ms/sample - loss: 0.3983\n",
      "Epoch 69/200\n",
      "6/6 [==============================] - 0s 3ms/sample - loss: 0.3901\n",
      "Epoch 70/200\n",
      "6/6 [==============================] - 0s 3ms/sample - loss: 0.3821\n",
      "Epoch 71/200\n",
      "6/6 [==============================] - 0s 3ms/sample - loss: 0.3742\n",
      "Epoch 72/200\n",
      "6/6 [==============================] - 0s 3ms/sample - loss: 0.3666\n",
      "Epoch 73/200\n",
      "6/6 [==============================] - 0s 3ms/sample - loss: 0.3590\n",
      "Epoch 74/200\n",
      "6/6 [==============================] - 0s 4ms/sample - loss: 0.3516\n",
      "Epoch 75/200\n",
      "6/6 [==============================] - 0s 3ms/sample - loss: 0.3444\n",
      "Epoch 76/200\n",
      "6/6 [==============================] - 0s 3ms/sample - loss: 0.3373\n",
      "Epoch 77/200\n",
      "6/6 [==============================] - 0s 3ms/sample - loss: 0.3304\n",
      "Epoch 78/200\n",
      "6/6 [==============================] - 0s 3ms/sample - loss: 0.3236\n",
      "Epoch 79/200\n",
      "6/6 [==============================] - 0s 3ms/sample - loss: 0.3170\n",
      "Epoch 80/200\n",
      "6/6 [==============================] - 0s 3ms/sample - loss: 0.3105\n",
      "Epoch 81/200\n",
      "6/6 [==============================] - 0s 4ms/sample - loss: 0.3041\n",
      "Epoch 82/200\n",
      "6/6 [==============================] - 0s 4ms/sample - loss: 0.2978\n",
      "Epoch 83/200\n",
      "6/6 [==============================] - 0s 3ms/sample - loss: 0.2917\n",
      "Epoch 84/200\n",
      "6/6 [==============================] - 0s 3ms/sample - loss: 0.2857\n",
      "Epoch 85/200\n",
      "6/6 [==============================] - 0s 2ms/sample - loss: 0.2799\n",
      "Epoch 86/200\n",
      "6/6 [==============================] - 0s 3ms/sample - loss: 0.2741\n",
      "Epoch 87/200\n",
      "6/6 [==============================] - 0s 2ms/sample - loss: 0.2685\n",
      "Epoch 88/200\n",
      "6/6 [==============================] - 0s 2ms/sample - loss: 0.2630\n",
      "Epoch 89/200\n",
      "6/6 [==============================] - 0s 3ms/sample - loss: 0.2576\n",
      "Epoch 90/200\n",
      "6/6 [==============================] - 0s 3ms/sample - loss: 0.2523\n",
      "Epoch 91/200\n",
      "6/6 [==============================] - 0s 3ms/sample - loss: 0.2471\n",
      "Epoch 92/200\n",
      "6/6 [==============================] - 0s 4ms/sample - loss: 0.2420\n",
      "Epoch 93/200\n",
      "6/6 [==============================] - 0s 3ms/sample - loss: 0.2371\n",
      "Epoch 94/200\n",
      "6/6 [==============================] - 0s 3ms/sample - loss: 0.2322\n",
      "Epoch 95/200\n",
      "6/6 [==============================] - 0s 4ms/sample - loss: 0.2274\n",
      "Epoch 96/200\n",
      "6/6 [==============================] - 0s 3ms/sample - loss: 0.2227\n",
      "Epoch 97/200\n",
      "6/6 [==============================] - 0s 3ms/sample - loss: 0.2182\n",
      "Epoch 98/200\n",
      "6/6 [==============================] - 0s 4ms/sample - loss: 0.2137\n",
      "Epoch 99/200\n",
      "6/6 [==============================] - 0s 4ms/sample - loss: 0.2093\n",
      "Epoch 100/200\n",
      "6/6 [==============================] - 0s 4ms/sample - loss: 0.2050\n",
      "Epoch 101/200\n",
      "6/6 [==============================] - 0s 4ms/sample - loss: 0.2008\n"
     ]
    },
    {
     "name": "stdout",
     "output_type": "stream",
     "text": [
      "Epoch 102/200\n",
      "6/6 [==============================] - 0s 4ms/sample - loss: 0.1967\n",
      "Epoch 103/200\n",
      "6/6 [==============================] - 0s 3ms/sample - loss: 0.1926\n",
      "Epoch 104/200\n",
      "6/6 [==============================] - 0s 4ms/sample - loss: 0.1887\n",
      "Epoch 105/200\n",
      "6/6 [==============================] - 0s 4ms/sample - loss: 0.1848\n",
      "Epoch 106/200\n",
      "6/6 [==============================] - 0s 3ms/sample - loss: 0.1810\n",
      "Epoch 107/200\n",
      "6/6 [==============================] - 0s 3ms/sample - loss: 0.1773\n",
      "Epoch 108/200\n",
      "6/6 [==============================] - 0s 4ms/sample - loss: 0.1736\n",
      "Epoch 109/200\n",
      "6/6 [==============================] - 0s 4ms/sample - loss: 0.1701\n",
      "Epoch 110/200\n",
      "6/6 [==============================] - 0s 3ms/sample - loss: 0.1666\n",
      "Epoch 111/200\n",
      "6/6 [==============================] - 0s 3ms/sample - loss: 0.1632\n",
      "Epoch 112/200\n",
      "6/6 [==============================] - 0s 4ms/sample - loss: 0.1598\n",
      "Epoch 113/200\n",
      "6/6 [==============================] - 0s 4ms/sample - loss: 0.1565\n",
      "Epoch 114/200\n",
      "6/6 [==============================] - 0s 3ms/sample - loss: 0.1533\n",
      "Epoch 115/200\n",
      "6/6 [==============================] - 0s 4ms/sample - loss: 0.1502\n",
      "Epoch 116/200\n",
      "6/6 [==============================] - 0s 4ms/sample - loss: 0.1471\n",
      "Epoch 117/200\n",
      "6/6 [==============================] - 0s 4ms/sample - loss: 0.1441\n",
      "Epoch 118/200\n",
      "6/6 [==============================] - 0s 4ms/sample - loss: 0.1411\n",
      "Epoch 119/200\n",
      "6/6 [==============================] - 0s 3ms/sample - loss: 0.1382\n",
      "Epoch 120/200\n",
      "6/6 [==============================] - 0s 3ms/sample - loss: 0.1354\n",
      "Epoch 121/200\n",
      "6/6 [==============================] - 0s 3ms/sample - loss: 0.1326\n",
      "Epoch 122/200\n",
      "6/6 [==============================] - 0s 3ms/sample - loss: 0.1299\n",
      "Epoch 123/200\n",
      "6/6 [==============================] - 0s 3ms/sample - loss: 0.1272\n",
      "Epoch 124/200\n",
      "6/6 [==============================] - 0s 4ms/sample - loss: 0.1246\n",
      "Epoch 125/200\n",
      "6/6 [==============================] - 0s 3ms/sample - loss: 0.1220\n",
      "Epoch 126/200\n",
      "6/6 [==============================] - 0s 4ms/sample - loss: 0.1195\n",
      "Epoch 127/200\n",
      "6/6 [==============================] - 0s 3ms/sample - loss: 0.1171\n",
      "Epoch 128/200\n",
      "6/6 [==============================] - 0s 3ms/sample - loss: 0.1146\n",
      "Epoch 129/200\n",
      "6/6 [==============================] - 0s 3ms/sample - loss: 0.1123\n",
      "Epoch 130/200\n",
      "6/6 [==============================] - 0s 3ms/sample - loss: 0.1100\n",
      "Epoch 131/200\n",
      "6/6 [==============================] - 0s 3ms/sample - loss: 0.1077\n",
      "Epoch 132/200\n",
      "6/6 [==============================] - 0s 3ms/sample - loss: 0.1055\n",
      "Epoch 133/200\n",
      "6/6 [==============================] - 0s 3ms/sample - loss: 0.1033\n",
      "Epoch 134/200\n",
      "6/6 [==============================] - 0s 3ms/sample - loss: 0.1012\n",
      "Epoch 135/200\n",
      "6/6 [==============================] - 0s 3ms/sample - loss: 0.0991\n",
      "Epoch 136/200\n",
      "6/6 [==============================] - 0s 3ms/sample - loss: 0.0971\n",
      "Epoch 137/200\n",
      "6/6 [==============================] - 0s 3ms/sample - loss: 0.0951\n",
      "Epoch 138/200\n",
      "6/6 [==============================] - 0s 3ms/sample - loss: 0.0932\n",
      "Epoch 139/200\n",
      "6/6 [==============================] - 0s 3ms/sample - loss: 0.0912\n",
      "Epoch 140/200\n",
      "6/6 [==============================] - 0s 3ms/sample - loss: 0.0894\n",
      "Epoch 141/200\n",
      "6/6 [==============================] - 0s 4ms/sample - loss: 0.0875\n",
      "Epoch 142/200\n",
      "6/6 [==============================] - 0s 3ms/sample - loss: 0.0857\n",
      "Epoch 143/200\n",
      "6/6 [==============================] - 0s 4ms/sample - loss: 0.0840\n",
      "Epoch 144/200\n",
      "6/6 [==============================] - 0s 4ms/sample - loss: 0.0823\n",
      "Epoch 145/200\n",
      "6/6 [==============================] - 0s 3ms/sample - loss: 0.0806\n",
      "Epoch 146/200\n",
      "6/6 [==============================] - 0s 3ms/sample - loss: 0.0789\n",
      "Epoch 147/200\n",
      "6/6 [==============================] - 0s 4ms/sample - loss: 0.0773\n",
      "Epoch 148/200\n",
      "6/6 [==============================] - 0s 3ms/sample - loss: 0.0757\n",
      "Epoch 149/200\n",
      "6/6 [==============================] - 0s 3ms/sample - loss: 0.0741\n",
      "Epoch 150/200\n",
      "6/6 [==============================] - 0s 4ms/sample - loss: 0.0726\n",
      "Epoch 151/200\n",
      "6/6 [==============================] - 0s 4ms/sample - loss: 0.0711\n",
      "Epoch 152/200\n",
      "6/6 [==============================] - 0s 3ms/sample - loss: 0.0697\n",
      "Epoch 153/200\n",
      "6/6 [==============================] - 0s 4ms/sample - loss: 0.0682\n",
      "Epoch 154/200\n",
      "6/6 [==============================] - 0s 4ms/sample - loss: 0.0668\n",
      "Epoch 155/200\n",
      "6/6 [==============================] - 0s 3ms/sample - loss: 0.0655\n",
      "Epoch 156/200\n",
      "6/6 [==============================] - 0s 3ms/sample - loss: 0.0641\n",
      "Epoch 157/200\n",
      "6/6 [==============================] - 0s 3ms/sample - loss: 0.0628\n",
      "Epoch 158/200\n",
      "6/6 [==============================] - 0s 3ms/sample - loss: 0.0615\n",
      "Epoch 159/200\n",
      "6/6 [==============================] - 0s 3ms/sample - loss: 0.0602\n",
      "Epoch 160/200\n",
      "6/6 [==============================] - 0s 3ms/sample - loss: 0.0590\n",
      "Epoch 161/200\n",
      "6/6 [==============================] - 0s 4ms/sample - loss: 0.0578\n",
      "Epoch 162/200\n",
      "6/6 [==============================] - 0s 3ms/sample - loss: 0.0566\n",
      "Epoch 163/200\n",
      "6/6 [==============================] - 0s 3ms/sample - loss: 0.0554\n",
      "Epoch 164/200\n",
      "6/6 [==============================] - 0s 3ms/sample - loss: 0.0543\n",
      "Epoch 165/200\n",
      "6/6 [==============================] - 0s 3ms/sample - loss: 0.0532\n",
      "Epoch 166/200\n",
      "6/6 [==============================] - 0s 3ms/sample - loss: 0.0521\n",
      "Epoch 167/200\n",
      "6/6 [==============================] - 0s 3ms/sample - loss: 0.0510\n",
      "Epoch 168/200\n",
      "6/6 [==============================] - 0s 3ms/sample - loss: 0.0500\n",
      "Epoch 169/200\n",
      "6/6 [==============================] - 0s 3ms/sample - loss: 0.0490\n",
      "Epoch 170/200\n",
      "6/6 [==============================] - 0s 3ms/sample - loss: 0.0480\n",
      "Epoch 171/200\n",
      "6/6 [==============================] - 0s 3ms/sample - loss: 0.0470\n",
      "Epoch 172/200\n",
      "6/6 [==============================] - 0s 3ms/sample - loss: 0.0460\n",
      "Epoch 173/200\n",
      "6/6 [==============================] - 0s 4ms/sample - loss: 0.0451\n",
      "Epoch 174/200\n",
      "6/6 [==============================] - 0s 4ms/sample - loss: 0.0441\n",
      "Epoch 175/200\n",
      "6/6 [==============================] - 0s 3ms/sample - loss: 0.0432\n",
      "Epoch 176/200\n",
      "6/6 [==============================] - 0s 3ms/sample - loss: 0.0423\n",
      "Epoch 177/200\n",
      "6/6 [==============================] - 0s 4ms/sample - loss: 0.0415\n",
      "Epoch 178/200\n",
      "6/6 [==============================] - 0s 3ms/sample - loss: 0.0406\n",
      "Epoch 179/200\n",
      "6/6 [==============================] - 0s 3ms/sample - loss: 0.0398\n",
      "Epoch 180/200\n",
      "6/6 [==============================] - 0s 3ms/sample - loss: 0.0390\n",
      "Epoch 181/200\n",
      "6/6 [==============================] - 0s 4ms/sample - loss: 0.0382\n",
      "Epoch 182/200\n",
      "6/6 [==============================] - 0s 4ms/sample - loss: 0.0374\n",
      "Epoch 183/200\n",
      "6/6 [==============================] - 0s 3ms/sample - loss: 0.0366\n",
      "Epoch 184/200\n",
      "6/6 [==============================] - 0s 4ms/sample - loss: 0.0359\n",
      "Epoch 185/200\n",
      "6/6 [==============================] - 0s 4ms/sample - loss: 0.0351\n",
      "Epoch 186/200\n",
      "6/6 [==============================] - 0s 3ms/sample - loss: 0.0344\n",
      "Epoch 187/200\n",
      "6/6 [==============================] - 0s 3ms/sample - loss: 0.0337\n",
      "Epoch 188/200\n",
      "6/6 [==============================] - 0s 3ms/sample - loss: 0.0330\n",
      "Epoch 189/200\n",
      "6/6 [==============================] - 0s 4ms/sample - loss: 0.0323\n",
      "Epoch 190/200\n",
      "6/6 [==============================] - 0s 3ms/sample - loss: 0.0317\n",
      "Epoch 191/200\n",
      "6/6 [==============================] - 0s 3ms/sample - loss: 0.0310\n",
      "Epoch 192/200\n",
      "6/6 [==============================] - 0s 4ms/sample - loss: 0.0304\n",
      "Epoch 193/200\n",
      "6/6 [==============================] - 0s 3ms/sample - loss: 0.0298\n",
      "Epoch 194/200\n",
      "6/6 [==============================] - 0s 3ms/sample - loss: 0.0291\n",
      "Epoch 195/200\n",
      "6/6 [==============================] - 0s 3ms/sample - loss: 0.0285\n",
      "Epoch 196/200\n",
      "6/6 [==============================] - 0s 3ms/sample - loss: 0.0280\n",
      "Epoch 197/200\n",
      "6/6 [==============================] - 0s 3ms/sample - loss: 0.0274\n",
      "Epoch 198/200\n",
      "6/6 [==============================] - 0s 3ms/sample - loss: 0.0268\n",
      "Epoch 199/200\n",
      "6/6 [==============================] - 0s 3ms/sample - loss: 0.0263\n",
      "Epoch 200/200\n",
      "6/6 [==============================] - 0s 3ms/sample - loss: 0.0257\n"
     ]
    },
    {
     "data": {
      "text/plain": [
       "<tensorflow.python.keras.callbacks.History at 0x7f2b14690e48>"
      ]
     },
     "execution_count": 3,
     "metadata": {},
     "output_type": "execute_result"
    }
   ],
   "source": [
    "# Create a simple Keras model.\n",
    "x = [-1, 0, 1, 2, 3, 4]\n",
    "y = [-3, -1, 1, 3, 5, 7]\n",
    "\n",
    "model = tf.keras.models.Sequential([\n",
    "        tf.keras.layers.Dense(units=1, input_shape=[1])\n",
    "])\n",
    "\n",
    "model.compile(optimizer='sgd',\n",
    "              loss='mean_squared_error')\n",
    "\n",
    "model.fit(x, y, epochs=200)"
   ]
  },
  {
   "cell_type": "markdown",
   "metadata": {
    "colab_type": "text",
    "id": "EjsB-QICGt6L"
   },
   "source": [
    "## Generate a SavedModel"
   ]
  },
  {
   "cell_type": "code",
   "execution_count": 4,
   "metadata": {
    "ExecuteTime": {
     "end_time": "2020-09-17T00:43:59.344852Z",
     "start_time": "2020-09-17T00:43:58.986803Z"
    },
    "colab": {},
    "colab_type": "code",
    "id": "a9xcbK7QHOfm"
   },
   "outputs": [
    {
     "name": "stdout",
     "output_type": "stream",
     "text": [
      "WARNING:tensorflow:From /usr/local/lib/python3.6/dist-packages/tensorflow_core/python/ops/resource_variable_ops.py:1781: calling BaseResourceVariable.__init__ (from tensorflow.python.ops.resource_variable_ops) with constraint is deprecated and will be removed in a future version.\n",
      "Instructions for updating:\n",
      "If using Keras pass *_constraint arguments to layers.\n",
      "INFO:tensorflow:Assets written to: saved_model/1/assets\n"
     ]
    }
   ],
   "source": [
    "export_dir = 'saved_model/1'\n",
    "tf.saved_model.save(model, export_dir)"
   ]
  },
  {
   "cell_type": "markdown",
   "metadata": {
    "colab_type": "text",
    "id": "RRtsNwkiGxcO"
   },
   "source": [
    "## Convert the SavedModel to TFLite"
   ]
  },
  {
   "cell_type": "code",
   "execution_count": 5,
   "metadata": {
    "ExecuteTime": {
     "end_time": "2020-09-17T00:44:33.784874Z",
     "start_time": "2020-09-17T00:44:31.278928Z"
    },
    "colab": {},
    "colab_type": "code",
    "id": "TtM8yKTVTpD3"
   },
   "outputs": [],
   "source": [
    "# Convert the model.\n",
    "converter = tf.lite.TFLiteConverter.from_saved_model(export_dir)\n",
    "tflite_model = converter.convert()"
   ]
  },
  {
   "cell_type": "code",
   "execution_count": 6,
   "metadata": {
    "ExecuteTime": {
     "end_time": "2020-09-17T00:44:53.460138Z",
     "start_time": "2020-09-17T00:44:53.447961Z"
    },
    "colab": {},
    "colab_type": "code",
    "id": "4idYulcNHTdO"
   },
   "outputs": [
    {
     "data": {
      "text/plain": [
       "780"
      ]
     },
     "execution_count": 6,
     "metadata": {},
     "output_type": "execute_result"
    }
   ],
   "source": [
    "tflite_model_file = pathlib.Path('model.tflite')\n",
    "tflite_model_file.write_bytes(tflite_model)"
   ]
  },
  {
   "cell_type": "code",
   "execution_count": 10,
   "metadata": {
    "ExecuteTime": {
     "end_time": "2020-09-17T00:54:54.497256Z",
     "start_time": "2020-09-17T00:54:54.491449Z"
    }
   },
   "outputs": [],
   "source": [
    "# ToDo by flavor：  create model from tflite_model_file"
   ]
  },
  {
   "cell_type": "markdown",
   "metadata": {
    "colab_type": "text",
    "id": "HgGvp2yBG25Q"
   },
   "source": [
    "## Initialize the TFLite Interpreter To Try It Out"
   ]
  },
  {
   "cell_type": "code",
   "execution_count": 7,
   "metadata": {
    "ExecuteTime": {
     "end_time": "2020-09-17T00:45:56.892535Z",
     "start_time": "2020-09-17T00:45:56.857345Z"
    },
    "colab": {},
    "colab_type": "code",
    "id": "DOt94wIWF8m7"
   },
   "outputs": [],
   "source": [
    "# Load TFLite model and allocate tensors.\n",
    "interpreter = tf.lite.Interpreter(model_content=tflite_model)\n",
    "interpreter.allocate_tensors()\n",
    "\n",
    "# Get input and output tensors.\n",
    "input_details = interpreter.get_input_details()\n",
    "output_details = interpreter.get_output_details()"
   ]
  },
  {
   "cell_type": "code",
   "execution_count": 11,
   "metadata": {
    "ExecuteTime": {
     "end_time": "2020-09-17T00:58:36.023219Z",
     "start_time": "2020-09-17T00:58:36.012605Z"
    }
   },
   "outputs": [
    {
     "data": {
      "text/plain": [
       "[{'name': 'dense_input',\n",
       "  'index': 3,\n",
       "  'shape': array([1, 1], dtype=int32),\n",
       "  'dtype': numpy.float32,\n",
       "  'quantization': (0.0, 0)}]"
      ]
     },
     "execution_count": 11,
     "metadata": {},
     "output_type": "execute_result"
    }
   ],
   "source": [
    "input_details"
   ]
  },
  {
   "cell_type": "code",
   "execution_count": 12,
   "metadata": {
    "ExecuteTime": {
     "end_time": "2020-09-17T00:58:59.886038Z",
     "start_time": "2020-09-17T00:58:59.875218Z"
    }
   },
   "outputs": [
    {
     "data": {
      "text/plain": [
       "[{'name': 'Identity',\n",
       "  'index': 0,\n",
       "  'shape': array([1, 1], dtype=int32),\n",
       "  'dtype': numpy.float32,\n",
       "  'quantization': (0.0, 0)}]"
      ]
     },
     "execution_count": 12,
     "metadata": {},
     "output_type": "execute_result"
    }
   ],
   "source": [
    "output_details"
   ]
  },
  {
   "cell_type": "code",
   "execution_count": 20,
   "metadata": {
    "ExecuteTime": {
     "end_time": "2020-09-17T01:06:39.580525Z",
     "start_time": "2020-09-17T01:06:39.499900Z"
    },
    "colab": {},
    "colab_type": "code",
    "id": "JGYkEK08F8qK"
   },
   "outputs": [],
   "source": [
    "# Test the TensorFlow Lite model on random input data.\n",
    "input_shape = input_details[0]['shape']\n",
    "inputs, outputs, tflite_outputs = [], [], []\n",
    "for _ in range(100):\n",
    "    input_data = np.array(np.random.random_sample(input_shape), dtype=np.float32)\n",
    "    interpreter.set_tensor(input_details[0]['index'], input_data)\n",
    "    \n",
    "    interpreter.invoke()\n",
    "    tflite_results = interpreter.get_tensor(output_details[0]['index'])\n",
    "    tflite_output_data = np.array(tflite_results)\n",
    "#     print(f'{tflite_results} -> {tflite_output_data}')\n",
    "    tflite_outputs.append(tflite_output_data[0][0])\n",
    "    \n",
    "    # Test the TensorFlow model on random input data.\n",
    "    tf_results = model(tf.constant(input_data))\n",
    "#     print(repr(tf_results))\n",
    "    output_data = np.array(tf_results)\n",
    "#     print(repr(output_data))\n",
    "#     print(f'{tf_results} -> {output_data}')\n",
    "    inputs.append(input_data[0][0])\n",
    "    outputs.append(output_data[0][0])"
   ]
  },
  {
   "cell_type": "markdown",
   "metadata": {
    "colab_type": "text",
    "id": "t1gQGH1KWAgW"
   },
   "source": [
    "## Visualize the Model"
   ]
  },
  {
   "cell_type": "code",
   "execution_count": null,
   "metadata": {},
   "outputs": [],
   "source": []
  },
  {
   "cell_type": "code",
   "execution_count": 21,
   "metadata": {
    "ExecuteTime": {
     "end_time": "2020-09-17T01:06:42.897038Z",
     "start_time": "2020-09-17T01:06:42.704587Z"
    },
    "colab": {},
    "colab_type": "code",
    "id": "ccvQ1mEJVrqo"
   },
   "outputs": [
    {
     "data": {
      "image/png": "[encoded data removed]",
      "text/plain": [
       "<Figure size 432x288 with 1 Axes>"
      ]
     },
     "metadata": {
      "needs_background": "light"
     },
     "output_type": "display_data"
    }
   ],
   "source": [
    "%matplotlib inline\n",
    "\n",
    "plt.plot(inputs, outputs, 'r')\n",
    "plt.show()"
   ]
  },
  {
   "cell_type": "code",
   "execution_count": 23,
   "metadata": {
    "ExecuteTime": {
     "end_time": "2020-09-17T01:06:50.280256Z",
     "start_time": "2020-09-17T01:06:50.092095Z"
    }
   },
   "outputs": [
    {
     "data": {
      "image/png": "[encoded data removed]",
      "text/plain": [
       "<Figure size 432x288 with 1 Axes>"
      ]
     },
     "metadata": {
      "needs_background": "light"
     },
     "output_type": "display_data"
    }
   ],
   "source": [
    "%matplotlib inline\n",
    "\n",
    "plt.plot(inputs, tflite_outputs, 'b')\n",
    "plt.show()"
   ]
  },
  {
   "cell_type": "markdown",
   "metadata": {
    "colab_type": "text",
    "id": "WbugMH6yKvtd"
   },
   "source": [
    "## Download the TFLite Model File\n",
    "\n",
    "If you are running this notebook in a Colab, you can run the cell below to download the tflite model to your local disk. \n",
    "\n",
    "**Note**: If the file does not download when you run the cell, try running the cell a second time."
   ]
  },
  {
   "cell_type": "code",
   "execution_count": null,
   "metadata": {
    "colab": {},
    "colab_type": "code",
    "id": "FOAIMETeJmkc"
   },
   "outputs": [],
   "source": [
    "try:\n",
    "    from google.colab import files\n",
    "    files.download(tflite_model_file)\n",
    "except:\n",
    "    pass"
   ]
  }
 ],
 "metadata": {
  "accelerator": "GPU",
  "colab": {
   "collapsed_sections": [],
   "name": "TFLite_Week1_Linear_Regression.ipynb",
   "private_outputs": true,
   "provenance": [],
   "toc_visible": true
  },
  "hide_input": false,
  "kernelspec": {
   "display_name": "Python 3",
   "language": "python",
   "name": "python3"
  },
  "language_info": {
   "codemirror_mode": {
    "name": "ipython",
    "version": 3
   },
   "file_extension": ".py",
   "mimetype": "text/x-python",
   "name": "python",
   "nbconvert_exporter": "python",
   "pygments_lexer": "ipython3",
   "version": "3.6.8"
  },
  "toc": {
   "base_numbering": 1,
   "nav_menu": {},
   "number_sections": true,
   "sideBar": true,
   "skip_h1_title": false,
   "title_cell": "Table of Contents",
   "title_sidebar": "Contents",
   "toc_cell": false,
   "toc_position": {},
   "toc_section_display": true,
   "toc_window_display": true
  },
  "varInspector": {
   "cols": {
    "lenName": 16,
    "lenType": 16,
    "lenVar": 40
   },
   "kernels_config": {
    "python": {
     "delete_cmd_postfix": "",
     "delete_cmd_prefix": "del ",
     "library": "var_list.py",
     "varRefreshCmd": "print(var_dic_list())"
    },
    "r": {
     "delete_cmd_postfix": ") ",
     "delete_cmd_prefix": "rm(",
     "library": "var_list.r",
     "varRefreshCmd": "cat(var_dic_list()) "
    }
   },
   "types_to_exclude": [
    "module",
    "function",
    "builtin_function_or_method",
    "instance",
    "_Feature"
   ],
   "window_display": false
  }
 },
 "nbformat": 4,
 "nbformat_minor": 1
}
